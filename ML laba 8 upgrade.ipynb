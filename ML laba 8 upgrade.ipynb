{
  "cells": [
    {
      "cell_type": "code",
      "execution_count": 1,
      "metadata": {
        "colab": {
          "base_uri": "https://localhost:8080/"
        },
        "id": "-3u2Hol_7-kg",
        "outputId": "0700e5e5-23e5-4126-d935-2b93fa800627"
      },
      "outputs": [
        {
          "output_type": "stream",
          "name": "stdout",
          "text": [
            "Mounted at /content/gdrive/\n"
          ]
        }
      ],
      "source": [
        "from google.colab import drive\n",
        "drive.mount('/content/gdrive/', force_remount=True)"
      ]
    },
    {
      "cell_type": "markdown",
      "metadata": {
        "id": "RIPdHQr00Poa"
      },
      "source": [
        "1. Загрузите данные из файла data-logistic.csv. Это двумерная выборка, целевая переменная на которой принимает значения -1 или 1.\n",
        "2. Убедитесь, что выше выписаны правильные формулы для градиентного спуска. Обратите внимание, что мы используем полноценный градиентный спуск, а не его стохастический вариант!\n",
        "3. Реализуйте градиентный спуск для обычной и L2-регуляризованной\n",
        "(с коэффициентом регуляризации 10) логистической регрессии. Используйте длину шага k=0.1. В качестве начального приближения\n",
        "используйте вектор (0, 0).\n",
        "4. Запустите градиентный спуск и доведите до сходимости (евклидово\n",
        "расстояние между векторами весов на соседних итерациях должно быть не больше 1e-5). Рекомендуется ограничить сверху число\n",
        "итераций десятью тысячами.\n",
        "5. Какое значение принимает AUC-ROC на обучении без регуляризации и при ее использовании? Эти величины будут ответом на\n",
        "задание. В качестве ответа приведите два числа через пробел. Обратите внимание, что на вход функции roc_auc_score нужно подавать оценки вероятностей, подсчитанные обученным алгоритмом.\n",
        "Для этого воспользуйтесь сигмоидной функцией: a(x) = 1/(1 +\n",
        "exp(−w1x1 − w2x2))."
      ]
    },
    {
      "cell_type": "code",
      "execution_count": 2,
      "metadata": {
        "id": "3b-GPZ598iKM"
      },
      "outputs": [],
      "source": [
        "import pandas as pd\n",
        "import numpy as np\n",
        "from typing import Tuple\n",
        "from sklearn.metrics import roc_auc_score"
      ]
    },
    {
      "cell_type": "code",
      "execution_count": 3,
      "metadata": {
        "id": "uml4jtw-8u3M"
      },
      "outputs": [],
      "source": [
        "!ls /content/gdrive/'MyDrive'/ML/"
      ]
    },
    {
      "cell_type": "code",
      "execution_count": 4,
      "metadata": {
        "id": "AQ1cXkRs9GN7"
      },
      "outputs": [],
      "source": [
        "data = pd.read_csv('/content/gdrive/MyDrive/ML/data-logistic.csv', header=None)"
      ]
    },
    {
      "cell_type": "code",
      "execution_count": 5,
      "metadata": {
        "colab": {
          "base_uri": "https://localhost:8080/",
          "height": 206
        },
        "id": "14pgjYMV9f5y",
        "outputId": "d98ad749-8e07-4801-8f2d-306a81b38dd6"
      },
      "outputs": [
        {
          "output_type": "execute_result",
          "data": {
            "text/plain": [
              "   0         1         2\n",
              "0 -1 -0.663827 -0.138526\n",
              "1  1  1.994596  2.468025\n",
              "2 -1 -1.247395  0.749425\n",
              "3  1  2.309374  1.899836\n",
              "4  1  0.849143  2.407750"
            ],
            "text/html": [
              "\n",
              "  <div id=\"df-b2f296fe-c34d-45bb-9ed8-1909af45b6c9\">\n",
              "    <div class=\"colab-df-container\">\n",
              "      <div>\n",
              "<style scoped>\n",
              "    .dataframe tbody tr th:only-of-type {\n",
              "        vertical-align: middle;\n",
              "    }\n",
              "\n",
              "    .dataframe tbody tr th {\n",
              "        vertical-align: top;\n",
              "    }\n",
              "\n",
              "    .dataframe thead th {\n",
              "        text-align: right;\n",
              "    }\n",
              "</style>\n",
              "<table border=\"1\" class=\"dataframe\">\n",
              "  <thead>\n",
              "    <tr style=\"text-align: right;\">\n",
              "      <th></th>\n",
              "      <th>0</th>\n",
              "      <th>1</th>\n",
              "      <th>2</th>\n",
              "    </tr>\n",
              "  </thead>\n",
              "  <tbody>\n",
              "    <tr>\n",
              "      <th>0</th>\n",
              "      <td>-1</td>\n",
              "      <td>-0.663827</td>\n",
              "      <td>-0.138526</td>\n",
              "    </tr>\n",
              "    <tr>\n",
              "      <th>1</th>\n",
              "      <td>1</td>\n",
              "      <td>1.994596</td>\n",
              "      <td>2.468025</td>\n",
              "    </tr>\n",
              "    <tr>\n",
              "      <th>2</th>\n",
              "      <td>-1</td>\n",
              "      <td>-1.247395</td>\n",
              "      <td>0.749425</td>\n",
              "    </tr>\n",
              "    <tr>\n",
              "      <th>3</th>\n",
              "      <td>1</td>\n",
              "      <td>2.309374</td>\n",
              "      <td>1.899836</td>\n",
              "    </tr>\n",
              "    <tr>\n",
              "      <th>4</th>\n",
              "      <td>1</td>\n",
              "      <td>0.849143</td>\n",
              "      <td>2.407750</td>\n",
              "    </tr>\n",
              "  </tbody>\n",
              "</table>\n",
              "</div>\n",
              "      <button class=\"colab-df-convert\" onclick=\"convertToInteractive('df-b2f296fe-c34d-45bb-9ed8-1909af45b6c9')\"\n",
              "              title=\"Convert this dataframe to an interactive table.\"\n",
              "              style=\"display:none;\">\n",
              "        \n",
              "  <svg xmlns=\"http://www.w3.org/2000/svg\" height=\"24px\"viewBox=\"0 0 24 24\"\n",
              "       width=\"24px\">\n",
              "    <path d=\"M0 0h24v24H0V0z\" fill=\"none\"/>\n",
              "    <path d=\"M18.56 5.44l.94 2.06.94-2.06 2.06-.94-2.06-.94-.94-2.06-.94 2.06-2.06.94zm-11 1L8.5 8.5l.94-2.06 2.06-.94-2.06-.94L8.5 2.5l-.94 2.06-2.06.94zm10 10l.94 2.06.94-2.06 2.06-.94-2.06-.94-.94-2.06-.94 2.06-2.06.94z\"/><path d=\"M17.41 7.96l-1.37-1.37c-.4-.4-.92-.59-1.43-.59-.52 0-1.04.2-1.43.59L10.3 9.45l-7.72 7.72c-.78.78-.78 2.05 0 2.83L4 21.41c.39.39.9.59 1.41.59.51 0 1.02-.2 1.41-.59l7.78-7.78 2.81-2.81c.8-.78.8-2.07 0-2.86zM5.41 20L4 18.59l7.72-7.72 1.47 1.35L5.41 20z\"/>\n",
              "  </svg>\n",
              "      </button>\n",
              "      \n",
              "  <style>\n",
              "    .colab-df-container {\n",
              "      display:flex;\n",
              "      flex-wrap:wrap;\n",
              "      gap: 12px;\n",
              "    }\n",
              "\n",
              "    .colab-df-convert {\n",
              "      background-color: #E8F0FE;\n",
              "      border: none;\n",
              "      border-radius: 50%;\n",
              "      cursor: pointer;\n",
              "      display: none;\n",
              "      fill: #1967D2;\n",
              "      height: 32px;\n",
              "      padding: 0 0 0 0;\n",
              "      width: 32px;\n",
              "    }\n",
              "\n",
              "    .colab-df-convert:hover {\n",
              "      background-color: #E2EBFA;\n",
              "      box-shadow: 0px 1px 2px rgba(60, 64, 67, 0.3), 0px 1px 3px 1px rgba(60, 64, 67, 0.15);\n",
              "      fill: #174EA6;\n",
              "    }\n",
              "\n",
              "    [theme=dark] .colab-df-convert {\n",
              "      background-color: #3B4455;\n",
              "      fill: #D2E3FC;\n",
              "    }\n",
              "\n",
              "    [theme=dark] .colab-df-convert:hover {\n",
              "      background-color: #434B5C;\n",
              "      box-shadow: 0px 1px 3px 1px rgba(0, 0, 0, 0.15);\n",
              "      filter: drop-shadow(0px 1px 2px rgba(0, 0, 0, 0.3));\n",
              "      fill: #FFFFFF;\n",
              "    }\n",
              "  </style>\n",
              "\n",
              "      <script>\n",
              "        const buttonEl =\n",
              "          document.querySelector('#df-b2f296fe-c34d-45bb-9ed8-1909af45b6c9 button.colab-df-convert');\n",
              "        buttonEl.style.display =\n",
              "          google.colab.kernel.accessAllowed ? 'block' : 'none';\n",
              "\n",
              "        async function convertToInteractive(key) {\n",
              "          const element = document.querySelector('#df-b2f296fe-c34d-45bb-9ed8-1909af45b6c9');\n",
              "          const dataTable =\n",
              "            await google.colab.kernel.invokeFunction('convertToInteractive',\n",
              "                                                     [key], {});\n",
              "          if (!dataTable) return;\n",
              "\n",
              "          const docLinkHtml = 'Like what you see? Visit the ' +\n",
              "            '<a target=\"_blank\" href=https://colab.research.google.com/notebooks/data_table.ipynb>data table notebook</a>'\n",
              "            + ' to learn more about interactive tables.';\n",
              "          element.innerHTML = '';\n",
              "          dataTable['output_type'] = 'display_data';\n",
              "          await google.colab.output.renderOutput(dataTable, element);\n",
              "          const docLink = document.createElement('div');\n",
              "          docLink.innerHTML = docLinkHtml;\n",
              "          element.appendChild(docLink);\n",
              "        }\n",
              "      </script>\n",
              "    </div>\n",
              "  </div>\n",
              "  "
            ]
          },
          "metadata": {},
          "execution_count": 5
        }
      ],
      "source": [
        "data.head(5)"
      ]
    },
    {
      "cell_type": "code",
      "execution_count": 6,
      "metadata": {
        "id": "azgVE872_7Zq"
      },
      "outputs": [],
      "source": [
        "y = data.loc[:,0]\n",
        "X = data.loc[:,1:]"
      ]
    },
    {
      "cell_type": "code",
      "execution_count": 7,
      "metadata": {
        "id": "FQLgMImyl2gQ"
      },
      "outputs": [],
      "source": [
        "def w1_grad(X: pd.DataFrame, y: pd.Series, w1: float, w2: float, k: float, C: float) -> float:\n",
        "    sum = 0\n",
        "    l = len(y)\n",
        "    for i in range(l):\n",
        "        sum += y[i] * X[1][i] * (1 - 1/(1 + np.exp(-y[i] * (w1 * X[1][i] + w2 * X[2][i]))))\n",
        "\n",
        "    return w1 + (k * sum) / l - w1 * k * C\n",
        "\n",
        "\n",
        "def w2_grad(X: pd.DataFrame, y: pd.Series, w1: float, w2: float, k: float, C: float) -> float:\n",
        "    sum = 0\n",
        "    l = len(y)\n",
        "    for i in range(l):\n",
        "        sum += y[i] * X[2][i] * (1 - 1 / (1 + np.exp(-y[i] * (w1 * X[1][i] + w2 * X[2][i]))))\n",
        "\n",
        "    return w2 + (k * sum) / l - w2 * k * C"
      ]
    },
    {
      "cell_type": "code",
      "execution_count": 8,
      "metadata": {
        "id": "hvl3Wk7mrdoV"
      },
      "outputs": [],
      "source": [
        "def gradient(X: pd.DataFrame, y: pd.Series, w1: float=0.0, w2: float=0.0,\n",
        "             k: float=0.1, C: float=0.0, precisison: float=1e-5, iterations: int=10000) -> Tuple[float, float]:\n",
        "    count = 0\n",
        "    for i in range(iterations):\n",
        "        count += 1\n",
        "        w1_pred = w1\n",
        "        w2_pred = w2\n",
        "#        w1 = w1_grad(X, y, w1, w2, k, C)\n",
        "        w1 = w1_grad(X, y, w1_pred, w2_pred, k, C)\n",
        "#        w2 = w2_grad(X, y, w1, w2, k, C)\n",
        "        w2 = w2_grad(X, y, w1_pred, w2_pred, k, C)\n",
        "# Объясню: ошибка не грубая, получается, что для обновления w2, Вы используете уже обновленный коэффициент w1.\n",
        "# Это положительно сказывается на скорости сходимости, но отрицательно на устойчивости алгоритма\n",
        "#        if ((w1_pred - w1) ** 2 + (w2_pred - w2) ** 2) <= precisison:\n",
        "        if (((w1_pred - w1) ** 2 + (w2_pred - w2) ** 2))**0.5 <= precisison:\n",
        "# Тоже не грубая ошибка, неправильно задано евклидово расстояние, так разница в точности будет нагляднее\n",
        "            break\n",
        "    \n",
        "    \n",
        "    print(f'итераций: {count}')\n",
        "    return w1, w2"
      ]
    },
    {
      "cell_type": "code",
      "execution_count": 9,
      "metadata": {
        "id": "fR7rSJ0cvZ7z"
      },
      "outputs": [],
      "source": [
        "def a(X: pd.DataFrame, w1: float, w2: float) -> pd.Series:\n",
        "    return 1.0/(1.0 + np.exp(-w1 * X[1] - w2 * X[2]))"
      ]
    },
    {
      "cell_type": "code",
      "execution_count": 10,
      "metadata": {
        "colab": {
          "base_uri": "https://localhost:8080/"
        },
        "id": "FBRs2mVovAF9",
        "outputId": "286e3e93-1932-4396-925e-6fb29ff16d91"
      },
      "outputs": [
        {
          "output_type": "stream",
          "name": "stdout",
          "text": [
            "итераций: 244\n",
            "итераций: 8\n",
            "0.2878116204717764 0.09198330215925438\n",
            "0.028558754546234223 0.02478013724973556\n"
          ]
        }
      ],
      "source": [
        "w1, w2 = gradient(X, y)\n",
        "w1_L2, w2_L2 = gradient(X, y, C=10.0)\n",
        "print(w1, w2)\n",
        "print(w1_L2, w2_L2)"
      ]
    },
    {
      "cell_type": "code",
      "execution_count": 11,
      "metadata": {
        "id": "ut11J3OnwVdE"
      },
      "outputs": [],
      "source": [
        "predict = a(X, w1, w2)\n",
        "predict_L2 = a(X, w1_L2, w2_L2)"
      ]
    },
    {
      "cell_type": "code",
      "execution_count": 12,
      "metadata": {
        "colab": {
          "base_uri": "https://localhost:8080/"
        },
        "id": "2GfON-9MwZXj",
        "outputId": "216ad99c-437b-4b75-c455-a49c74dcc470"
      },
      "outputs": [
        {
          "output_type": "stream",
          "name": "stdout",
          "text": [
            "0.9268571428571428\n",
            "0.9362857142857142\n"
          ]
        }
      ],
      "source": [
        "print(roc_auc_score(y, predict))\n",
        "print(roc_auc_score(y, predict_L2))"
      ]
    },
    {
      "cell_type": "markdown",
      "metadata": {
        "id": "uIO7Y7fz1JeK"
      },
      "source": [
        "точность без/с L2 нормализацей сопоставима, число итераций: \\\n",
        " без нормализации - 244 \\\n",
        " с L2 нормализацией - 8"
      ]
    },
    {
      "cell_type": "markdown",
      "metadata": {
        "id": "aI0y0ZzM0Uhi"
      },
      "source": [
        "6. Попробуйте поменять длину шага. Будет ли сходиться алгоритм,\n",
        "если делать более длинные шаги? Как меняется число итераций\n",
        "при уменьшении длины шага?\n",
        "7. Попробуйте менять начальное приближение. Влияет ли оно на чтонибудь?"
      ]
    },
    {
      "cell_type": "code",
      "execution_count": null,
      "metadata": {
        "colab": {
          "base_uri": "https://localhost:8080/"
        },
        "id": "PZ7w5YOayC5T",
        "outputId": "fe414e5a-3615-40e1-c843-e7773d912fff"
      },
      "outputs": [
        {
          "name": "stdout",
          "output_type": "stream",
          "text": [
            "итераций: 10000\n"
          ]
        }
      ],
      "source": [
        "w1, w2 = gradient(X, y, k=4) # при k > 4 алгоритм не сходится"
      ]
    },
    {
      "cell_type": "code",
      "execution_count": null,
      "metadata": {
        "colab": {
          "base_uri": "https://localhost:8080/"
        },
        "id": "nWVuubDP2Xop",
        "outputId": "50a21cf1-4978-4de5-cc4c-f95bf180cab0"
      },
      "outputs": [
        {
          "name": "stdout",
          "output_type": "stream",
          "text": [
            "итераций: 9\n",
            "итераций: 21\n",
            "итераций: 17\n",
            "итераций: 1\n",
            "итераций: 1\n"
          ]
        }
      ],
      "source": [
        "for i in [1.0, 0.1, 0.01, 0.001, 0.0001]:\n",
        "    w1, w2 = gradient(X, y, k=i)\n",
        "#    w1, w2 = gradient(X, y, k=i, C=10.0)    "
      ]
    },
    {
      "cell_type": "code",
      "source": [
        "for i in [0.13, 0.1, 0.01, 0.001, 0.0001]: # при 1.0 тоже алгоритм не сойдется, рекомендую заменить, например, на 0.13, у меня на 0.16 уже не сходился\n",
        "#    w1, w2 = gradient(X, y, k=i)\n",
        "    w1, w2 = gradient(X, y, k=i, C=10.0)    "
      ],
      "metadata": {
        "colab": {
          "base_uri": "https://localhost:8080/"
        },
        "id": "1pwM7bDrE-bo",
        "outputId": "ce321365-0ec0-4ae5-efa4-8651722c4d43"
      },
      "execution_count": 19,
      "outputs": [
        {
          "output_type": "stream",
          "name": "stdout",
          "text": [
            "итераций: 22\n",
            "итераций: 8\n",
            "итераций: 47\n",
            "итераций: 305\n",
            "итераций: 1233\n"
          ]
        }
      ]
    },
    {
      "cell_type": "markdown",
      "metadata": {
        "id": "g-sKfO8Z4R8B"
      },
      "source": [
        "при уменьшении длины шага число итераций увеличивается"
      ]
    },
    {
      "cell_type": "code",
      "execution_count": 14,
      "metadata": {
        "colab": {
          "base_uri": "https://localhost:8080/"
        },
        "id": "sYQqp4Jv3BEZ",
        "outputId": "f718e7b5-7def-4593-d43f-e28d67d6dfa2"
      },
      "outputs": [
        {
          "output_type": "stream",
          "name": "stdout",
          "text": [
            "итераций: 10\n"
          ]
        }
      ],
      "source": [
        "#w1, w2 = gradient(X, y, w1=1.0, w2=2.0)\n",
        "w1, w2 = gradient(X, y, w1=1.0, w2=2.0, C=10.0)"
      ]
    },
    {
      "cell_type": "code",
      "execution_count": 15,
      "metadata": {
        "colab": {
          "base_uri": "https://localhost:8080/"
        },
        "id": "krZa91Cb3k_p",
        "outputId": "726b145c-f9f9-4a86-c3b4-7ddb88eefaae"
      },
      "outputs": [
        {
          "output_type": "stream",
          "name": "stdout",
          "text": [
            "итераций: 10\n"
          ]
        }
      ],
      "source": [
        "#w1, w2 = gradient(X, y, w1=10.0, w2=20.0)\n",
        "w1, w2 = gradient(X, y, w1=10.0, w2=20.0, C=10.0)"
      ]
    },
    {
      "cell_type": "code",
      "execution_count": 16,
      "metadata": {
        "colab": {
          "base_uri": "https://localhost:8080/"
        },
        "id": "g1uvvWRc4B0Y",
        "outputId": "a785e268-7ce8-49d5-bf1c-e418a17d37ea"
      },
      "outputs": [
        {
          "output_type": "stream",
          "name": "stdout",
          "text": [
            "итераций: 10\n"
          ]
        }
      ],
      "source": [
        "#w1, w2 = gradient(X, y, w1=-10.0, w2=-20.0)\n",
        "w1, w2 = gradient(X, y, w1=-10.0, w2=-20.0, C=10.0)"
      ]
    },
    {
      "cell_type": "markdown",
      "metadata": {
        "id": "OLfbZvvt4Z35"
      },
      "source": [
        "при изменении начальных приближений число итераций не изменяется"
      ]
    },
    {
      "cell_type": "code",
      "execution_count": 18,
      "metadata": {
        "colab": {
          "base_uri": "https://localhost:8080/"
        },
        "id": "cOlMpNuJ4Dn5",
        "outputId": "f6a52070-706c-46ca-ffec-97237d445ba5"
      },
      "outputs": [
        {
          "output_type": "stream",
          "name": "stdout",
          "text": [
            "итераций: 971\n"
          ]
        }
      ],
      "source": [
        "#w1, w2 = gradient(X, y, w1=-10.0, w2=20.0, k=0.0001)\n",
        "w1, w2 = gradient(X, y, w1=-10.0, w2=20.0, k=0.001, C=10.0)"
      ]
    }
  ],
  "metadata": {
    "colab": {
      "collapsed_sections": [],
      "provenance": []
    },
    "kernelspec": {
      "display_name": "Python 3 (ipykernel)",
      "language": "python",
      "name": "python3"
    },
    "language_info": {
      "codemirror_mode": {
        "name": "ipython",
        "version": 3
      },
      "file_extension": ".py",
      "mimetype": "text/x-python",
      "name": "python",
      "nbconvert_exporter": "python",
      "pygments_lexer": "ipython3",
      "version": "3.10.2"
    }
  },
  "nbformat": 4,
  "nbformat_minor": 0
}