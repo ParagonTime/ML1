{
 "cells": [
  {
   "cell_type": "code",
   "execution_count": 1,
   "metadata": {
    "colab": {
     "base_uri": "https://localhost:8080/"
    },
    "executionInfo": {
     "elapsed": 36529,
     "status": "ok",
     "timestamp": 1666703557365,
     "user": {
      "displayName": "Dima Reznikov",
      "userId": "07424153345367615772"
     },
     "user_tz": -180
    },
    "id": "6WK1ZXJn1ljp",
    "outputId": "2d7df3f3-162a-4cca-b2ce-f42d1e775c70"
   },
   "outputs": [
    {
     "name": "stdout",
     "output_type": "stream",
     "text": [
      "Mounted at /content/gdrive/\n"
     ]
    }
   ],
   "source": [
    "from google.colab import drive\n",
    "drive.mount('/content/gdrive/', force_remount=True)"
   ]
  },
  {
   "cell_type": "markdown",
   "metadata": {
    "id": "deKFgjz7Pewb"
   },
   "source": [
    "1. Загрузите данные close_prices.csv. В этом файле приведены цены\n",
    "акций 30 компаний на закрытии торгов за каждый день периода.\n",
    "2. На загруженных данных обучите преобразование PCA с числом\n",
    "компоненты равным 10. Скольких компонент хватит, чтобы объяснить 90% дисперсии?\n",
    "3. Примените построенное преобразование к исходным данным и возьмите значения первой компоненты.\n",
    "4. Загрузите информацию об индексе Доу-Джонса из файла djia_prices.csv.\n",
    "Чему равна корреляция Пирсона между первой компонентой и индексом Доу-Джонса?\n",
    "5. Какая компания имеет наибольший вес в первой компоненте?"
   ]
  },
  {
   "cell_type": "code",
   "execution_count": 5,
   "metadata": {
    "colab": {
     "base_uri": "https://localhost:8080/"
    },
    "executionInfo": {
     "elapsed": 273,
     "status": "ok",
     "timestamp": 1666696389308,
     "user": {
      "displayName": "Dima Reznikov",
      "userId": "07424153345367615772"
     },
     "user_tz": -180
    },
    "id": "cH8JIYjx15g7",
    "outputId": "f9ef8c51-101c-45f5-a424-0fc132071ac3"
   },
   "outputs": [
    {
     "name": "stdout",
     "output_type": "stream",
     "text": [
      "classification.csv  djia_index.csv\t perceptron-train.csv  svm-data.csv\n",
      "close_prices.csv    housing.data\t salary-test-mini.csv  titanic.csv\n",
      "comments.csv\t    housing.names\t salary-train.csv      wine.data\n",
      "data-logistic.csv   perceptron-test.csv  scores.csv\t       wine.names\n"
     ]
    }
   ],
   "source": [
    "!ls /content/gdrive/MyDrive/ML/"
   ]
  },
  {
   "cell_type": "code",
   "execution_count": 40,
   "metadata": {
    "executionInfo": {
     "elapsed": 1357,
     "status": "ok",
     "timestamp": 1666703565071,
     "user": {
      "displayName": "Dima Reznikov",
      "userId": "07424153345367615772"
     },
     "user_tz": -180
    },
    "id": "wcmJSLwC31QU"
   },
   "outputs": [],
   "source": [
    "import pandas as pd\n",
    "import numpy as np\n",
    "\n",
    "from sklearn.decomposition import PCA"
   ]
  },
  {
   "cell_type": "code",
   "execution_count": 41,
   "metadata": {
    "executionInfo": {
     "elapsed": 648,
     "status": "ok",
     "timestamp": 1666703567472,
     "user": {
      "displayName": "Dima Reznikov",
      "userId": "07424153345367615772"
     },
     "user_tz": -180
    },
    "id": "dVurWZXw2K_T"
   },
   "outputs": [],
   "source": [
    "data = pd.read_csv('/content/gdrive/MyDrive/ML/close_prices.csv')"
   ]
  },
  {
   "cell_type": "code",
   "execution_count": 42,
   "metadata": {
    "colab": {
     "base_uri": "https://localhost:8080/",
     "height": 253
    },
    "executionInfo": {
     "elapsed": 8,
     "status": "ok",
     "timestamp": 1666703569373,
     "user": {
      "displayName": "Dima Reznikov",
      "userId": "07424153345367615772"
     },
     "user_tz": -180
    },
    "id": "y1ASa6Gs4JSE",
    "outputId": "e0c41086-6ec8-49f9-8df0-07bab81d4941"
   },
   "outputs": [
    {
     "name": "stdout",
     "output_type": "stream",
     "text": [
      "(374, 31)\n"
     ]
    },
    {
     "data": {
      "text/html": [
       "<div>\n",
       "<style scoped>\n",
       "    .dataframe tbody tr th:only-of-type {\n",
       "        vertical-align: middle;\n",
       "    }\n",
       "\n",
       "    .dataframe tbody tr th {\n",
       "        vertical-align: top;\n",
       "    }\n",
       "\n",
       "    .dataframe thead th {\n",
       "        text-align: right;\n",
       "    }\n",
       "</style>\n",
       "<table border=\"1\" class=\"dataframe\">\n",
       "  <thead>\n",
       "    <tr style=\"text-align: right;\">\n",
       "      <th></th>\n",
       "      <th>date</th>\n",
       "      <th>AXP</th>\n",
       "      <th>BA</th>\n",
       "      <th>CAT</th>\n",
       "      <th>CSCO</th>\n",
       "      <th>CVX</th>\n",
       "      <th>DD</th>\n",
       "      <th>DIS</th>\n",
       "      <th>GE</th>\n",
       "      <th>GS</th>\n",
       "      <th>...</th>\n",
       "      <th>PFE</th>\n",
       "      <th>PG</th>\n",
       "      <th>T</th>\n",
       "      <th>TRV</th>\n",
       "      <th>UNH</th>\n",
       "      <th>UTX</th>\n",
       "      <th>V</th>\n",
       "      <th>VZ</th>\n",
       "      <th>WMT</th>\n",
       "      <th>XOM</th>\n",
       "    </tr>\n",
       "  </thead>\n",
       "  <tbody>\n",
       "    <tr>\n",
       "      <th>0</th>\n",
       "      <td>2013-09-23</td>\n",
       "      <td>76.440002</td>\n",
       "      <td>117.510002</td>\n",
       "      <td>85.029999</td>\n",
       "      <td>24.270000</td>\n",
       "      <td>125.519997</td>\n",
       "      <td>59.409999</td>\n",
       "      <td>64.750000</td>\n",
       "      <td>24.280001</td>\n",
       "      <td>165.250000</td>\n",
       "      <td>...</td>\n",
       "      <td>28.799999</td>\n",
       "      <td>79.279999</td>\n",
       "      <td>34.220001</td>\n",
       "      <td>86.379997</td>\n",
       "      <td>71.820000</td>\n",
       "      <td>109.419998</td>\n",
       "      <td>196.240005</td>\n",
       "      <td>47.980000</td>\n",
       "      <td>76.419998</td>\n",
       "      <td>87.750000</td>\n",
       "    </tr>\n",
       "    <tr>\n",
       "      <th>1</th>\n",
       "      <td>2013-09-24</td>\n",
       "      <td>76.070000</td>\n",
       "      <td>119.000000</td>\n",
       "      <td>85.110001</td>\n",
       "      <td>24.139999</td>\n",
       "      <td>124.489998</td>\n",
       "      <td>59.319997</td>\n",
       "      <td>64.320000</td>\n",
       "      <td>24.320000</td>\n",
       "      <td>162.970001</td>\n",
       "      <td>...</td>\n",
       "      <td>28.709999</td>\n",
       "      <td>78.620003</td>\n",
       "      <td>34.090000</td>\n",
       "      <td>85.870003</td>\n",
       "      <td>72.320000</td>\n",
       "      <td>110.000000</td>\n",
       "      <td>193.339996</td>\n",
       "      <td>47.270000</td>\n",
       "      <td>75.750000</td>\n",
       "      <td>87.360001</td>\n",
       "    </tr>\n",
       "    <tr>\n",
       "      <th>2</th>\n",
       "      <td>2013-09-25</td>\n",
       "      <td>75.989998</td>\n",
       "      <td>118.510002</td>\n",
       "      <td>84.500000</td>\n",
       "      <td>24.430000</td>\n",
       "      <td>124.070000</td>\n",
       "      <td>59.319997</td>\n",
       "      <td>64.449997</td>\n",
       "      <td>24.230000</td>\n",
       "      <td>162.309998</td>\n",
       "      <td>...</td>\n",
       "      <td>28.490000</td>\n",
       "      <td>77.720001</td>\n",
       "      <td>34.049999</td>\n",
       "      <td>85.980003</td>\n",
       "      <td>71.980003</td>\n",
       "      <td>109.260002</td>\n",
       "      <td>191.559998</td>\n",
       "      <td>46.950001</td>\n",
       "      <td>74.650002</td>\n",
       "      <td>87.139999</td>\n",
       "    </tr>\n",
       "    <tr>\n",
       "      <th>3</th>\n",
       "      <td>2013-09-26</td>\n",
       "      <td>76.320000</td>\n",
       "      <td>119.379997</td>\n",
       "      <td>84.199997</td>\n",
       "      <td>23.770000</td>\n",
       "      <td>123.489998</td>\n",
       "      <td>59.509996</td>\n",
       "      <td>65.239998</td>\n",
       "      <td>24.250000</td>\n",
       "      <td>162.289993</td>\n",
       "      <td>...</td>\n",
       "      <td>28.520000</td>\n",
       "      <td>78.050003</td>\n",
       "      <td>34.230000</td>\n",
       "      <td>85.830002</td>\n",
       "      <td>72.160004</td>\n",
       "      <td>109.660004</td>\n",
       "      <td>193.559998</td>\n",
       "      <td>47.669998</td>\n",
       "      <td>74.620003</td>\n",
       "      <td>87.070000</td>\n",
       "    </tr>\n",
       "    <tr>\n",
       "      <th>4</th>\n",
       "      <td>2013-09-27</td>\n",
       "      <td>75.889999</td>\n",
       "      <td>118.739998</td>\n",
       "      <td>83.800003</td>\n",
       "      <td>23.330000</td>\n",
       "      <td>122.639999</td>\n",
       "      <td>59.009995</td>\n",
       "      <td>65.190002</td>\n",
       "      <td>24.049999</td>\n",
       "      <td>159.850006</td>\n",
       "      <td>...</td>\n",
       "      <td>28.879999</td>\n",
       "      <td>77.209999</td>\n",
       "      <td>33.980000</td>\n",
       "      <td>85.410004</td>\n",
       "      <td>71.989998</td>\n",
       "      <td>109.360001</td>\n",
       "      <td>193.050003</td>\n",
       "      <td>47.000000</td>\n",
       "      <td>74.360001</td>\n",
       "      <td>86.900002</td>\n",
       "    </tr>\n",
       "  </tbody>\n",
       "</table>\n",
       "<p>5 rows × 31 columns</p>\n",
       "</div>"
      ],
      "text/plain": [
       "         date        AXP          BA        CAT       CSCO         CVX  \\\n",
       "0  2013-09-23  76.440002  117.510002  85.029999  24.270000  125.519997   \n",
       "1  2013-09-24  76.070000  119.000000  85.110001  24.139999  124.489998   \n",
       "2  2013-09-25  75.989998  118.510002  84.500000  24.430000  124.070000   \n",
       "3  2013-09-26  76.320000  119.379997  84.199997  23.770000  123.489998   \n",
       "4  2013-09-27  75.889999  118.739998  83.800003  23.330000  122.639999   \n",
       "\n",
       "          DD        DIS         GE          GS  ...        PFE         PG  \\\n",
       "0  59.409999  64.750000  24.280001  165.250000  ...  28.799999  79.279999   \n",
       "1  59.319997  64.320000  24.320000  162.970001  ...  28.709999  78.620003   \n",
       "2  59.319997  64.449997  24.230000  162.309998  ...  28.490000  77.720001   \n",
       "3  59.509996  65.239998  24.250000  162.289993  ...  28.520000  78.050003   \n",
       "4  59.009995  65.190002  24.049999  159.850006  ...  28.879999  77.209999   \n",
       "\n",
       "           T        TRV        UNH         UTX           V         VZ  \\\n",
       "0  34.220001  86.379997  71.820000  109.419998  196.240005  47.980000   \n",
       "1  34.090000  85.870003  72.320000  110.000000  193.339996  47.270000   \n",
       "2  34.049999  85.980003  71.980003  109.260002  191.559998  46.950001   \n",
       "3  34.230000  85.830002  72.160004  109.660004  193.559998  47.669998   \n",
       "4  33.980000  85.410004  71.989998  109.360001  193.050003  47.000000   \n",
       "\n",
       "         WMT        XOM  \n",
       "0  76.419998  87.750000  \n",
       "1  75.750000  87.360001  \n",
       "2  74.650002  87.139999  \n",
       "3  74.620003  87.070000  \n",
       "4  74.360001  86.900002  \n",
       "\n",
       "[5 rows x 31 columns]"
      ]
     },
     "execution_count": 42,
     "metadata": {},
     "output_type": "execute_result"
    }
   ],
   "source": [
    "print(data.shape)\n",
    "data.head(5)"
   ]
  },
  {
   "cell_type": "code",
   "execution_count": 43,
   "metadata": {
    "executionInfo": {
     "elapsed": 407,
     "status": "ok",
     "timestamp": 1666703572275,
     "user": {
      "displayName": "Dima Reznikov",
      "userId": "07424153345367615772"
     },
     "user_tz": -180
    },
    "id": "0KD133es6zBS"
   },
   "outputs": [],
   "source": [
    "model = PCA(n_components=10)\n",
    "transformed_data = model.fit_transform(data.loc[:,'AXP':'XOM'])"
   ]
  },
  {
   "cell_type": "code",
   "execution_count": 44,
   "metadata": {
    "colab": {
     "base_uri": "https://localhost:8080/"
    },
    "executionInfo": {
     "elapsed": 494,
     "status": "ok",
     "timestamp": 1666703577148,
     "user": {
      "displayName": "Dima Reznikov",
      "userId": "07424153345367615772"
     },
     "user_tz": -180
    },
    "id": "oHOcbV7z-N3D",
    "outputId": "16b299d6-1179-4539-c022-1aa1926b1b8b"
   },
   "outputs": [
    {
     "data": {
      "text/plain": [
       "array([0.73897118, 0.11007169, 0.04995088, 0.0287492 , 0.02215448,\n",
       "       0.01931577, 0.00674853, 0.00614091, 0.00320594, 0.00305611])"
      ]
     },
     "execution_count": 44,
     "metadata": {},
     "output_type": "execute_result"
    }
   ],
   "source": [
    "model.explained_variance_ratio_"
   ]
  },
  {
   "cell_type": "markdown",
   "metadata": {
    "id": "LSxT-JD3_qWb"
   },
   "source": [
    "4 компоненты достаточно для объяснения 90% дисперсии (при 3 компонетах 89.899%)"
   ]
  },
  {
   "cell_type": "code",
   "execution_count": 45,
   "metadata": {
    "colab": {
     "base_uri": "https://localhost:8080/"
    },
    "executionInfo": {
     "elapsed": 409,
     "status": "ok",
     "timestamp": 1666703581796,
     "user": {
      "displayName": "Dima Reznikov",
      "userId": "07424153345367615772"
     },
     "user_tz": -180
    },
    "id": "74b3u1siCDt6",
    "outputId": "ff037031-b769-424f-d8c7-11ee12d6aad9"
   },
   "outputs": [
    {
     "data": {
      "text/plain": [
       "array([0.73897118, 0.11007169, 0.04995088, 0.0287492 , 0.02215448,\n",
       "       0.01931577, 0.00674853, 0.00614091, 0.00320594, 0.00305611])"
      ]
     },
     "execution_count": 45,
     "metadata": {},
     "output_type": "execute_result"
    }
   ],
   "source": [
    "model.explained_variance_ratio_"
   ]
  },
  {
   "cell_type": "code",
   "execution_count": 46,
   "metadata": {
    "executionInfo": {
     "elapsed": 1052,
     "status": "ok",
     "timestamp": 1666703589030,
     "user": {
      "displayName": "Dima Reznikov",
      "userId": "07424153345367615772"
     },
     "user_tz": -180
    },
    "id": "Lal23dHrDOMy"
   },
   "outputs": [],
   "source": [
    "data = pd.read_csv('/content/gdrive/MyDrive/ML/djia_index.csv')"
   ]
  },
  {
   "cell_type": "code",
   "execution_count": 47,
   "metadata": {
    "colab": {
     "base_uri": "https://localhost:8080/",
     "height": 206
    },
    "executionInfo": {
     "elapsed": 4,
     "status": "ok",
     "timestamp": 1666703591234,
     "user": {
      "displayName": "Dima Reznikov",
      "userId": "07424153345367615772"
     },
     "user_tz": -180
    },
    "id": "ZiPM8YGcDdli",
    "outputId": "94941152-e4bc-4116-ed35-51515498e77c"
   },
   "outputs": [
    {
     "data": {
      "text/html": [
       "<div>\n",
       "<style scoped>\n",
       "    .dataframe tbody tr th:only-of-type {\n",
       "        vertical-align: middle;\n",
       "    }\n",
       "\n",
       "    .dataframe tbody tr th {\n",
       "        vertical-align: top;\n",
       "    }\n",
       "\n",
       "    .dataframe thead th {\n",
       "        text-align: right;\n",
       "    }\n",
       "</style>\n",
       "<table border=\"1\" class=\"dataframe\">\n",
       "  <thead>\n",
       "    <tr style=\"text-align: right;\">\n",
       "      <th></th>\n",
       "      <th>date</th>\n",
       "      <th>^DJI</th>\n",
       "    </tr>\n",
       "  </thead>\n",
       "  <tbody>\n",
       "    <tr>\n",
       "      <th>0</th>\n",
       "      <td>2013-09-23</td>\n",
       "      <td>15401.379883</td>\n",
       "    </tr>\n",
       "    <tr>\n",
       "      <th>1</th>\n",
       "      <td>2013-09-24</td>\n",
       "      <td>15334.589844</td>\n",
       "    </tr>\n",
       "    <tr>\n",
       "      <th>2</th>\n",
       "      <td>2013-09-25</td>\n",
       "      <td>15273.259766</td>\n",
       "    </tr>\n",
       "    <tr>\n",
       "      <th>3</th>\n",
       "      <td>2013-09-26</td>\n",
       "      <td>15328.299805</td>\n",
       "    </tr>\n",
       "    <tr>\n",
       "      <th>4</th>\n",
       "      <td>2013-09-27</td>\n",
       "      <td>15258.240234</td>\n",
       "    </tr>\n",
       "  </tbody>\n",
       "</table>\n",
       "</div>"
      ],
      "text/plain": [
       "         date          ^DJI\n",
       "0  2013-09-23  15401.379883\n",
       "1  2013-09-24  15334.589844\n",
       "2  2013-09-25  15273.259766\n",
       "3  2013-09-26  15328.299805\n",
       "4  2013-09-27  15258.240234"
      ]
     },
     "execution_count": 47,
     "metadata": {},
     "output_type": "execute_result"
    }
   ],
   "source": [
    "dataDJ.head(5)"
   ]
  },
  {
   "cell_type": "code",
   "execution_count": 48,
   "metadata": {
    "executionInfo": {
     "elapsed": 1,
     "status": "ok",
     "timestamp": 1666703592916,
     "user": {
      "displayName": "Dima Reznikov",
      "userId": "07424153345367615772"
     },
     "user_tz": -180
    },
    "id": "4bXLkVvXNTK6"
   },
   "outputs": [],
   "source": [
    "corr = np.corrcoef(transformed_data[:,0], dataDJ['^DJI'])"
   ]
  },
  {
   "cell_type": "code",
   "execution_count": 49,
   "metadata": {
    "colab": {
     "base_uri": "https://localhost:8080/"
    },
    "executionInfo": {
     "elapsed": 2,
     "status": "ok",
     "timestamp": 1666703594337,
     "user": {
      "displayName": "Dima Reznikov",
      "userId": "07424153345367615772"
     },
     "user_tz": -180
    },
    "id": "QtD8-rdCOEXS",
    "outputId": "495ca48d-2c1a-45f1-c88f-71bb1e795408"
   },
   "outputs": [
    {
     "name": "stdout",
     "output_type": "stream",
     "text": [
      "[[1.         0.90965222]\n",
      " [0.90965222 1.        ]]\n"
     ]
    }
   ],
   "source": [
    "print(corr) # корреляция Пирсона "
   ]
  },
  {
   "cell_type": "code",
   "execution_count": 50,
   "metadata": {
    "colab": {
     "base_uri": "https://localhost:8080/"
    },
    "executionInfo": {
     "elapsed": 2,
     "status": "ok",
     "timestamp": 1666703596345,
     "user": {
      "displayName": "Dima Reznikov",
      "userId": "07424153345367615772"
     },
     "user_tz": -180
    },
    "id": "Dm5FEquUQo2B",
    "outputId": "35f79253-7c02-4fa9-a3bc-065da48ac36a"
   },
   "outputs": [
    {
     "name": "stdout",
     "output_type": "stream",
     "text": [
      "V\n"
     ]
    }
   ],
   "source": [
    "#company = data.keys()[model.components_[0].argmax()]\n",
    "company = data.keys()[abs(model.components_[0]).argmax() + 1]\n",
    "print(company)"
   ]
  },
  {
   "cell_type": "markdown",
   "metadata": {},
   "source": [
    "V: Это сокращенное название компании Visa, которая идет сразу за UTX"
   ]
  }
 ],
 "metadata": {
  "colab": {
   "authorship_tag": "ABX9TyOUBlP7Q21uxWPvhzzDEC1v",
   "collapsed_sections": [],
   "provenance": []
  },
  "kernelspec": {
   "display_name": "Python 3 (ipykernel)",
   "language": "python",
   "name": "python3"
  },
  "language_info": {
   "codemirror_mode": {
    "name": "ipython",
    "version": 3
   },
   "file_extension": ".py",
   "mimetype": "text/x-python",
   "name": "python",
   "nbconvert_exporter": "python",
   "pygments_lexer": "ipython3",
   "version": "3.10.2"
  }
 },
 "nbformat": 4,
 "nbformat_minor": 1
}
